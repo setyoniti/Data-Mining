{
 "cells": [
  {
   "cell_type": "code",
   "execution_count": null,
   "metadata": {},
   "outputs": [],
   "source": [
    "# Nama: Setyo Niti Wicaksono\n",
    "# NIM: A11.2022.14746\n",
    "\n",
    "import pandas as pd\n",
    "\n",
    "# Membaca dataset\n",
    "df = pd.read_csv('telco_customer_churn.csv')\n",
    "\n",
    "# Menampilkan 5 baris pertama dari dataset\n",
    "print(df.head())\n",
    "\n",
    "# Menghapus kolom yang tidak diperlukan\n",
    "# Misalnya: 'customerID' tidak perlu untuk analisis lebih lanjut\n",
    "df.drop(columns=['customerID'], inplace=True)\n",
    "\n",
    "# Mengganti nilai 'No' dan 'Yes' pada kolom 'Churn' menjadi 0 dan 1\n",
    "df['Churn'] = df['Churn'].map({'No': 0, 'Yes': 1})\n",
    "\n",
    "# Mengonversi kolom 'TotalCharges' menjadi numeric, \n",
    "# mengatasi nilai yang tidak valid dengan errors='coerce'\n",
    "df['TotalCharges'] = pd.to_numeric(df['TotalCharges'], errors='coerce')\n",
    "\n",
    "# Mengisi nilai yang hilang (NaN) pada 'TotalCharges' dengan median\n",
    "df['TotalCharges'].fillna(df['TotalCharges'].median(), inplace=True)\n",
    "\n",
    "# Mengonversi kolom kategori menjadi variabel dummy\n",
    "df = pd.get_dummies(df, drop_first=True)\n",
    "\n",
    "# Menampilkan informasi dataset setelah preprocessing\n",
    "print(df.info())\n",
    "\n",
    "# Menyimpan dataset yang sudah diproses ke file baru\n",
    "df.to_csv('telco_customer_churn_preprocessed.csv', index=False)\n"
   ]
  }
 ],
 "metadata": {
  "language_info": {
   "name": "python"
  }
 },
 "nbformat": 4,
 "nbformat_minor": 2
}
